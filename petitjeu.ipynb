{
 "cells": [
  {
   "cell_type": "code",
   "execution_count": 1,
   "metadata": {},
   "outputs": [
    {
     "name": "stdout",
     "output_type": "stream",
     "text": [
      "hello bienvenue sur mosti.ca\n",
      "dis moi le nombre le plus haut\n"
     ]
    },
    {
     "name": "stdin",
     "output_type": "stream",
     "text": [
      "-> 100\n"
     ]
    },
    {
     "name": "stdout",
     "output_type": "stream",
     "text": [
      "dis moi le nombre de vies que tu desires\n"
     ]
    },
    {
     "name": "stdin",
     "output_type": "stream",
     "text": [
      "-> 6\n"
     ]
    },
    {
     "name": "stdout",
     "output_type": "stream",
     "text": [
      "entrer votre essai (vie numéro 1)\n"
     ]
    },
    {
     "name": "stdin",
     "output_type": "stream",
     "text": [
      "-> 50\n"
     ]
    },
    {
     "name": "stdout",
     "output_type": "stream",
     "text": [
      "trop petit\n",
      "entrer votre essai (vie numéro 2)\n"
     ]
    },
    {
     "name": "stdin",
     "output_type": "stream",
     "text": [
      "-> 75\n"
     ]
    },
    {
     "name": "stdout",
     "output_type": "stream",
     "text": [
      "trop petit\n",
      "entrer votre essai (vie numéro 3)\n"
     ]
    },
    {
     "name": "stdin",
     "output_type": "stream",
     "text": [
      "-> 87\n"
     ]
    },
    {
     "name": "stdout",
     "output_type": "stream",
     "text": [
      "trop petit\n",
      "entrer votre essai (vie numéro 4)\n"
     ]
    },
    {
     "name": "stdin",
     "output_type": "stream",
     "text": [
      "-> 93\n"
     ]
    },
    {
     "name": "stdout",
     "output_type": "stream",
     "text": [
      "trop petit\n",
      "entrer votre essai (vie numéro 5)\n"
     ]
    },
    {
     "name": "stdin",
     "output_type": "stream",
     "text": [
      "-> 97\n"
     ]
    },
    {
     "name": "stdout",
     "output_type": "stream",
     "text": [
      "trop petit\n",
      "entrer votre essai (vie numéro 6)\n"
     ]
    },
    {
     "name": "stdin",
     "output_type": "stream",
     "text": [
      "-> 99\n"
     ]
    },
    {
     "name": "stdout",
     "output_type": "stream",
     "text": [
      "trop grand\n",
      "fail epic fail\n"
     ]
    }
   ],
   "source": [
    "from Crypto.Random.random import randrange #pour le chiffre au hazard\n",
    "\n",
    "print('hello bienvenue sur mosti.ca')\n",
    "\n",
    "#on va demander le nombre max\n",
    "print (\"dis moi le nombre le plus haut\")\n",
    "nombremax=input(\"->\")\n",
    "\n",
    "\n",
    "#on va demander les nombre de vie\n",
    "print (\"dis moi le nombre de vies que tu desires\")\n",
    "vies=input(\"->\")\n",
    "\n",
    "#choisir un nombre au hazard selon le max\n",
    "nombrehazard = randrange(1,int(nombremax))\n",
    "\n",
    "for i in range(int(vies)):\n",
    "    #demander l'essay\n",
    "    print(\"entrer votre essai (vie numéro \"+ str(i+1) +\")\")\n",
    "    essai=input(\"->\")\n",
    "    #lui si il est trop haut trop bas ou c'est bien\n",
    "    if nombrehazard==int(essai):\n",
    "        print(\"bravo t'as réussi avec seulement \"+str(i+1) +\" vies\")\n",
    "        break\n",
    "    elif nombrehazard>int(essai):\n",
    "        print(\"trop petit\")\n",
    "    else:\n",
    "        print(\"trop grand\")\n",
    "    #on recommence jusqu'a temps qu'il l'a  ou qu'il n'y a plus de vie\n",
    "\n",
    "# bravo ou fail epic fail\n",
    "if nombrehazard!=int(essai):\n",
    "    print(\"fail epic fail\")"
   ]
  }
 ],
 "metadata": {
  "kernelspec": {
   "display_name": "Python 3",
   "language": "python",
   "name": "python3"
  },
  "language_info": {
   "codemirror_mode": {
    "name": "ipython",
    "version": 3
   },
   "file_extension": ".py",
   "mimetype": "text/x-python",
   "name": "python",
   "nbconvert_exporter": "python",
   "pygments_lexer": "ipython3",
   "version": "3.7.6"
  }
 },
 "nbformat": 4,
 "nbformat_minor": 4
}
